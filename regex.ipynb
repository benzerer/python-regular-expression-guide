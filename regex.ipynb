{
  "cells": [
    {
      "cell_type": "markdown",
      "metadata": {
        "id": "view-in-github",
        "colab_type": "text"
      },
      "source": [
        "<a href=\"https://colab.research.google.com/github/benzerer/python-regular-expression-guide/blob/main/regex.ipynb\" target=\"_parent\"><img src=\"https://colab.research.google.com/assets/colab-badge.svg\" alt=\"Open In Colab\"/></a>"
      ]
    },
    {
      "cell_type": "markdown",
      "source": [
        "# **Regular Expression in python**"
      ],
      "metadata": {
        "id": "NbBMIpyfTDBk"
      }
    },
    {
      "cell_type": "markdown",
      "source": [
        "## ส่วนประกอบของ Regular expression object (re object)\n",
        "\n",
        "การใช้งาน regular expression เบื้องต้น มีส่วนประกอบหลัก 2 ส่วนคือ\n",
        "1. Pattern -- รูปแบบของตัวอักษรที่เราต้องการใช้งาน เพื่อค้นหา ตรวจสอบ แทนที่ หรือแยกส่วนคำ\n",
        "2. Flag -- ตัวกำกับ \"พฤติกรรม\" ของ pattern เช่น\n",
        "  - มองตัวอักษรพิมพ์เล็กและพิมพ์ใหญ่เป็นตัวเดียวกัน\n",
        "  - ไม่สนใจบรรทัดใหม่ (\\n)\n",
        "\n",
        "ในตัวอย่างและคำอธิบายด้านล่าง\n",
        "\n",
        "จะมีเนื้อหาที่เล่าถึง compiled re object และ match object ไปในตัวเลย :)"
      ],
      "metadata": {
        "id": "gKoQ2W2-TKgd"
      }
    },
    {
      "cell_type": "markdown",
      "source": [
        "### **1. Pattern**\n",
        "\n",
        "- แบบง่ายที่สุด เป็นคำหรือตัวอักษรอะไรก็ได้ต่อกัน เช่น `สวัสดี`, `hello`, `email`, etc...\n",
        "- แบบที่ซับซ้อนขึ้น คือการมีตัวกำกับ (special characters) บอกถึงพฤติกรรมของคำหรือตัวอักษรที่เราเขียน เพิ่มความยืดหยุ่น และในหลายๆครั้งก็ช่วยประหยัดเวลา\n",
        "\n",
        "โดยตัวกับกับจะมีประเภทดังต่อไปนี้\n",
        "\n",
        "1. **Character classes** -- ใช้แทนการเขียนตัวอักษรหลายๆตัว เช่น `\\w` คือตัวแทนของตัวอักษรทุกตัวที่เป็น A-Z ทั้งตัวเล็กใหญ่ หรือตัวเลข 0-9\n",
        "2. **Anchor** -- ใช้ระบุการเริ่มต้นและสิ้นสุดของบรรทัด หรือคำ เช่น `^` คือขึ้นต้นของบรรทัด\n",
        "3. **Escaped characters** -- ใช้ระบุตัวอักษรพิเศษ เช่น `\\t` tab, `\\n` new line, `\\f` feed, `\\r` return, `\\u00A9` ©\n",
        "4. **Groups and references** -- ใช้จัดกลุ่มตัวอักษร หรือตั้งชื่อให้กลุ่มตัวอักษร เช่น เขียน pattern ของ email แล้วตั้งชื่อให้ตัวอักษรที่ match ได้ว่า email\n",
        "5. **Quantifiers and alternations** -- ใช้ระบุจำนวนตัวอักษรที่ซ้ำกัน เช่น `A{4}` จะจับ `AAAA` (A 4 ตัว) ในข้อความออกมา\n",
        "6. **Lookaround** -- ใช้จับตัวอักษรตามเงื่อนไข เช่น คำที่ตามหลังด้วย `ing` หรือคำที่นำหน้าด้วย `pre`\n",
        "\n",
        "[ตารางตัวกำกับที่ใช้บ่อย](https://github.com/benzerer/python-regular-expression-guide/blob/main/README.md#%E0%B8%95%E0%B8%B2%E0%B8%A3%E0%B8%B2%E0%B8%87%E0%B8%95%E0%B8%B1%E0%B8%A7%E0%B8%81%E0%B8%B3%E0%B8%81%E0%B8%B1%E0%B8%9A-special-characters-%E0%B8%82%E0%B8%AD%E0%B8%87-regex-%E0%B9%83%E0%B8%99-python) <-- ใช้ประกอบไฟล์นี้ยาวๆเลยครับ อ่านคู่กัน\n",
        "\n"
      ],
      "metadata": {
        "id": "4Jcg2S8VXuEB"
      }
    },
    {
      "cell_type": "code",
      "execution_count": null,
      "metadata": {
        "id": "lIYdn1woOS1n"
      },
      "outputs": [],
      "source": [
        "import re\n",
        "\n",
        "text = '''ทดสอบจ้าทดสอบ -- .(-_-).\n",
        "Pattern และตัวกำกับ 6 แบบใน Python 3 © \\(^_^)/'''"
      ]
    },
    {
      "cell_type": "markdown",
      "source": [
        "#### Character classes"
      ],
      "metadata": {
        "id": "J5oLvSpKsTDN"
      }
    },
    {
      "cell_type": "markdown",
      "source": [
        "> การใช้ re module โดยตรง สะดวกกับการใช้งานครั้งเดียว\n",
        "โดยโยน pattern ใส่ลงไปใน method (search, match, findall, sub, ...)\n",
        "\n",
        "1. Method search --> match object หาตำแหน่งแรกที่ตรงเงื่อนไข"
      ],
      "metadata": {
        "id": "qEEEnkhKUTxk"
      }
    },
    {
      "cell_type": "code",
      "source": [
        "pattern_1 = '[NLP]ython'\n",
        "result = re.search(pattern_1, text)\n",
        "print(result)"
      ],
      "metadata": {
        "id": "GM2HsOioiM63"
      },
      "execution_count": null,
      "outputs": []
    },
    {
      "cell_type": "markdown",
      "source": [
        "> การ Compile คือการทำให้ pattern กลายเป็น re object\n",
        ">\n",
        "> ช่วยให้การทำงานจำนวนมาก มีความเร็วที่มากขึ้น\n",
        ">\n",
        "> เพิ่มความเรียบร้อยของตัว code\n",
        ">\n",
        "> และเป็นไปตามหลักการ DRY (Don't Repeat Yourself)\n",
        ">\n",
        "> การใช้งานจะเปลี่ยนจาก `re.method(pattern, text)` เป็น `pattern.method(text)`\n",
        "\n",
        "2. Method match --> match object เอาเงื่อนไขไปจับตั้งแต่ beginning"
      ],
      "metadata": {
        "id": "EJTtDK5zUkeU"
      }
    },
    {
      "cell_type": "code",
      "source": [
        "pattern_2 = re.compile('[^123456789]')\n",
        "result = pattern_2.match(text)\n",
        "print(result)"
      ],
      "metadata": {
        "id": "PjUq1h07e16Z"
      },
      "execution_count": null,
      "outputs": []
    },
    {
      "cell_type": "markdown",
      "source": [
        "> **ความแตกต่างของ re.search และ re.match**\n",
        ">\n",
        "> สมมติว่ามี pattern `love`\n",
        ">\n",
        "> text ตัวอย่างที่ 1: `I love you. Do you love me?`\n",
        ">\n",
        "> สิ่งที่ re.search ทำคือการหาไปเรื่อยๆ จนกว่าจะเจอ pattern\n",
        ">\n",
        "> พอเจอครั้งแรกแล้วก็คืนเลย\n",
        "> ```python\n",
        "> # รอบที่ 1\n",
        "> \"I love you. Do you love me?\"\n",
        "> \"love\"\n",
        ">\n",
        "> # รอบที่ 2\n",
        "> \"I love you. Do you love me?\"\n",
        "> -\"love\"\n",
        ">\n",
        "> # รอบที่ 3\n",
        "> \"I love you. Do you love me?\"\n",
        "> --\"love\"\n",
        ">\n",
        "> # เจอคำว่า love ครั้งแรก ก็คืนผลลัพธ์เลย\n",
        "> ```\n",
        ">\n",
        "> สิ่งที่ re.match ทำคือแค่เอา pattern ไปวางที่ beginning แล้วดูว่าใช่รึเปล่า\n",
        ">\n",
        "> ถ้าไม่ใช่ ก็จะ return None เลย\n",
        "> ```python\n",
        "> \"I love you. Do you love me?\"\n",
        "> \"love\"\n",
        ">\n",
        "> # beginning ไม่ตรงกับ pattern เลยคืืน None\n",
        "> ```\n",
        "> ถ้าคิดแบบง่ายๆก็คือ re.match ก็เหมือนเอา `^` ไปเติมข้างหน้า pattern ของ search\n",
        "\n",
        "3. Method split --> list(str) ใช้ pattern ในการตัด text แล้วจะได้ list of string คืนมา"
      ],
      "metadata": {
        "id": "hbfhsAlRUqPW"
      }
    },
    {
      "cell_type": "code",
      "source": [
        "pattern_3 = re.compile('[A-Z]attern')\n",
        "result = pattern_3.split(text)\n",
        "print(result)"
      ],
      "metadata": {
        "id": "tyNxA0vse7LP"
      },
      "execution_count": null,
      "outputs": []
    },
    {
      "cell_type": "code",
      "source": [
        "pattern_4 = re.compile('\\s')\n",
        "result = pattern_4.split(text)\n",
        "print(result)"
      ],
      "metadata": {
        "id": "CV-S2U9Ne9tX"
      },
      "execution_count": null,
      "outputs": []
    },
    {
      "cell_type": "markdown",
      "source": [
        "4. Method sub --> str แทนที่ pattern ด้วยข้อความที่กำหนด"
      ],
      "metadata": {
        "id": "Eg6YBP_bXB3E"
      }
    },
    {
      "cell_type": "code",
      "source": [
        "pattern_5 = re.compile('\\S')\n",
        "result = pattern_5.sub('-', text)\n",
        "print(result)"
      ],
      "metadata": {
        "id": "Ax_w6kWFfBDd"
      },
      "execution_count": null,
      "outputs": []
    },
    {
      "cell_type": "markdown",
      "source": [
        "5. Method findall --> list(str) คล้าย search แต่ทำมากกว่า 1 ครั้ง ไม่ได้หยุดที่ตัวแรก\n",
        "\n",
        "> ```python\n",
        "> # รอบที่ 1\n",
        "> \"I love you. Do you love me?\"\n",
        "> \"love\"\n",
        ">\n",
        "> # รอบที่ 2\n",
        "> \"I love you. Do you love me?\"\n",
        "> -\"love\"\n",
        ">\n",
        "> # รอบที่ 3\n",
        "> \"I love you. Do you love me?\"\n",
        "> --\"love\"\n",
        ">\n",
        "> # เจอคำว่า love ครั้งแรก เก็บคำในผลลัพธ์ที่ 1 ไว้\n",
        ">\n",
        "> ...\n",
        ">\n",
        "> # รอบที่ 20\n",
        "> \"I love you. Do you love me?\"\n",
        "> -------------------\"love\"\n",
        ">\n",
        "> # เจอคำว่า love ครั้งแรก เก็บคำในผลลัพธ์ที่ 2 ไว้\n",
        "> # ทำจนไม่เจออะไรแล้ว แล้ว return ออกมาเป็น list ของ string\n",
        "> ```"
      ],
      "metadata": {
        "id": "ddw8xKFJXJHZ"
      }
    },
    {
      "cell_type": "code",
      "source": [
        "pattern_6 = re.compile('\\wดสอบ')\n",
        "result = pattern_6.findall(text)\n",
        "print(result)"
      ],
      "metadata": {
        "id": "vxBnTmqjfC0P"
      },
      "execution_count": null,
      "outputs": []
    },
    {
      "cell_type": "markdown",
      "source": [
        "> สระหรือวรรณยุกต์ในภาษาไทย ถือเป็น non-word characters (\\W)"
      ],
      "metadata": {
        "id": "8-XC6N22Yqkd"
      }
    },
    {
      "cell_type": "code",
      "source": [
        "pattern_7 = re.compile('\\W')\n",
        "pattern_7.sub('_', text)"
      ],
      "metadata": {
        "id": "_N8kcJANfE-O"
      },
      "execution_count": null,
      "outputs": []
    },
    {
      "cell_type": "code",
      "source": [
        "pattern_8 = re.compile('\\s\\d\\s')\n",
        "pattern_8.split(text)"
      ],
      "metadata": {
        "id": "dmPDl8dLfHfg"
      },
      "execution_count": null,
      "outputs": []
    },
    {
      "cell_type": "code",
      "source": [
        "pattern_9 = re.compile('\\D')\n",
        "pattern_9.sub('-', text)"
      ],
      "metadata": {
        "id": "owL_XihafJgl"
      },
      "execution_count": null,
      "outputs": []
    },
    {
      "cell_type": "markdown",
      "source": [
        "6. Method fullmatch --> match object ทั้ง text ต้องตรงตาม pattern 100% เหมือนเอา `^` และ `$` ไปประกบหน้าหลัง pattern\n",
        "\n",
        "> จากตัวอย่างด้านล่าง ต่อให้ใช้ `.+` ก็ยังไม่สามารถได้ผลลัพธ์ fullmatch. ได้\n",
        ">\n",
        "> เนื่องจาก `.` ไม่มอง `\\n` เป็นตัวอักษร ต้องใช้ flag DOTALL (ดูต่อด้านล่าง)"
      ],
      "metadata": {
        "id": "kEohofyCY5te"
      }
    },
    {
      "cell_type": "code",
      "source": [
        "pattern_10 = re.compile('.')\n",
        "pattern_10.fullmatch(text)"
      ],
      "metadata": {
        "id": "g87ynUSXfLLh"
      },
      "execution_count": null,
      "outputs": []
    },
    {
      "cell_type": "markdown",
      "source": [
        "#### Anchor"
      ],
      "metadata": {
        "id": "MTszXla1sa4h"
      }
    },
    {
      "cell_type": "code",
      "source": [
        "text"
      ],
      "metadata": {
        "id": "x16qAlU9t5kz"
      },
      "execution_count": null,
      "outputs": []
    },
    {
      "cell_type": "markdown",
      "source": [
        "> `^` anchor เปลี่ยนพฤติกรรมของ search, findall ให้เหมือนกับ match\n",
        ">\n",
        "> findall ที่หาอะไรไม่เจอเลย จะคืนผลลัพธ์เป็น `[]` (empty list)"
      ],
      "metadata": {
        "id": "7X4-XfL4Zd5k"
      }
    },
    {
      "cell_type": "code",
      "source": [
        "pattern_11 = re.compile('^ทดสอบ')\n",
        "result_1 = pattern_11.match(text)\n",
        "result_2 = pattern_11.search(text)\n",
        "result_3 = pattern_11.findall(text)\n",
        "print(result_1, result_2, result_3)"
      ],
      "metadata": {
        "id": "DZGzVNQHshlc"
      },
      "execution_count": null,
      "outputs": []
    },
    {
      "cell_type": "markdown",
      "source": [
        "> `$` anchor เปลี่ยนพฤติกรรมของ search, findall เช่นกัน\n"
      ],
      "metadata": {
        "id": "67xSzoawZtm-"
      }
    },
    {
      "cell_type": "code",
      "source": [
        "pattern_12 = re.compile('\\d$')\n",
        "result_1 = pattern_12.match(text)\n",
        "result_2 = pattern_12.search(text)\n",
        "result_3 = pattern_12.findall(text)\n",
        "print(result_1, result_2, result_3)"
      ],
      "metadata": {
        "id": "q3g99s2AfPci"
      },
      "execution_count": null,
      "outputs": []
    },
    {
      "cell_type": "markdown",
      "source": [
        "> `\\b` anchor มองสระหรือวรรณยุกต์ในภาษาไทยเป็น non-word (\\W)\n"
      ],
      "metadata": {
        "id": "vDWYXl1yZ12U"
      }
    },
    {
      "cell_type": "code",
      "source": [
        "pattern_13 = re.compile(r'\\w\\b')\n",
        "result_1 = pattern_13.match(text)\n",
        "result_2 = pattern_13.search(text)\n",
        "result_3 = pattern_13.findall(text)\n",
        "print(result_1, result_2, result_3)"
      ],
      "metadata": {
        "id": "3kM_z5_2fPQV"
      },
      "execution_count": null,
      "outputs": []
    },
    {
      "cell_type": "markdown",
      "source": [
        "#### Escaped characters (เน้น \\n)"
      ],
      "metadata": {
        "id": "ZctyF2tYslOz"
      }
    },
    {
      "cell_type": "code",
      "source": [
        "text"
      ],
      "metadata": {
        "id": "hxiXwxL-tzo9"
      },
      "execution_count": null,
      "outputs": []
    },
    {
      "cell_type": "markdown",
      "source": [
        "> `r'abcd'` เรียกว่า raw string มีผลกับการ escape ตัวอักษร `\\` โดยตรง\n",
        ">\n",
        "> จากตัวอย่างด้านล่าง เราต้องการให้ re ทำการเปลี่ยน `\\(^_^)/` เป็นหน้ายิ้ม `:)`\n",
        ">\n",
        "> python เก็บ `\\(^_^)/` เป็น `\\\\(^_^)/`\n",
        ">\n",
        "> ถ้าใช้ตารางแสดงตัวอย่างอาจจะเข้าใจง่ายขึ้นมาหน่อย\n",
        ">\n",
        "> |ตัวอักษรที่ python เก็บไปใช้งาน|สิ่งที่ python แสดง เมื่อใช้คำสั่ง print|\n",
        "> |-|-|\n",
        "> |\\\\\\\\(^_^)/|\\\\(^_^)/|\n",
        "> |\\\\\\\\.|\\\\.|\n",
        ">\n",
        "> การเขียน pattern ของ regular expression แบบไม่ใช้ raw string จะถูก python ตีความตามตาราง\n",
        ">\n",
        "> |pattern ของเรา|สิ่งที่ regular มอง|\n",
        "> |-|-|\n",
        "> |\\\\\\\\\\\\\\\\(^_^)/|\\\\\\\\(^_^)/ <-- ตรงกับที่ python เก็บไว้|\n",
        "> |\\\\\\\\\\\\\\\\.|\\\\\\\\.  <-- ตรงกับที่ python เก็บไว้|\n",
        ">\n",
        "> การใส่ raw sting `r'\\\\(^_^)/'`  ทำให้ regular expression มอง pattern นี้ตามที่เราเขียนเลย ไม่ต้องตีความเพิ่ม\n",
        ">\n",
        "> ช่วงต้นของ pattern 14 `\\\\.` เลยถูกตีความตามที่เขียน\n",
        ">\n",
        "> หมายความว่าเราต้องการหา ตัวอักษรแรกคือ `\\`\n",
        ">\n",
        "> ช่วงต้นของ pattern 15 `\\\\.` ถูกตีความเป็น `\\.`\n",
        ">\n",
        "> หมายความว่าเราต้องการหา ตัวอักษรแรกคือ `.`\n",
        ">\n",
        "> ช่วงต้นของ pattern 16 `\\\\\\\\.` ถูกตีความเป็น `\\\\.`\n",
        ">\n",
        "> หมายความว่าเราต้องการหา ตัวอักษรแรกคือ `\\`\n",
        ">\n",
        "> ทบทวนและลองเล่นดูหลายๆครั้งจะทำให้เข้าใจมากขึ้นครับ :)\n",
        "\n",
        "note:\n",
        "- `re.sub()` สามารถใส่ parameter count ได้ เพื่อบอกว่าจะ replace กี่ครั้ง\n",
        "- `re.split()` สามารถใส่ parameter maxsplit ได้ เพื่อบอกว่าจะ split มากที่สุดกี่ครั้ง\n"
      ],
      "metadata": {
        "id": "ehAtUnokaCE4"
      }
    },
    {
      "cell_type": "code",
      "source": [
        "pattern_14 = re.compile(r'\\\\......')\n",
        "pattern_14.sub(':)', text)"
      ],
      "metadata": {
        "id": "_LcZaywQsoQB"
      },
      "execution_count": null,
      "outputs": []
    },
    {
      "cell_type": "code",
      "source": [
        "pattern_15 = re.compile('\\\\.......')\n",
        "pattern_15.sub(':)', text, count=1)"
      ],
      "metadata": {
        "id": "KYAgkGXlfaaR"
      },
      "execution_count": null,
      "outputs": []
    },
    {
      "cell_type": "code",
      "source": [
        "pattern_16 = re.compile('\\\\\\\\......')\n",
        "pattern_16.sub(':)', text)"
      ],
      "metadata": {
        "id": "XxmlrM1ufaXT"
      },
      "execution_count": null,
      "outputs": []
    },
    {
      "cell_type": "code",
      "source": [
        "pattern_17 = re.compile(r'\\u00A9')\n",
        "pattern_17.split(text)"
      ],
      "metadata": {
        "id": "s9fW_HDXfaUM"
      },
      "execution_count": null,
      "outputs": []
    },
    {
      "cell_type": "code",
      "source": [
        "pattern_18 = re.compile(r'\\n')\n",
        "pattern_18.search(text)"
      ],
      "metadata": {
        "id": "jQfPgUEffgLA"
      },
      "execution_count": null,
      "outputs": []
    },
    {
      "cell_type": "markdown",
      "source": [
        "#### Groups and references (ข้าม)"
      ],
      "metadata": {
        "id": "5mqsHNylsziV"
      }
    },
    {
      "cell_type": "code",
      "source": [
        "text"
      ],
      "metadata": {
        "id": "wY5NywOast2Y"
      },
      "execution_count": null,
      "outputs": []
    },
    {
      "cell_type": "markdown",
      "source": [
        "> การใส่วงเล็บ `()` แบบนี้ ใน regular expression มักจะหมายถึงการจับกลุ่ม\n",
        ">\n",
        "> แต่ก็สามารถหมายความไปถึง operation พิเศษของกลุ่มคำหรือข้อความได้เช่นกัน\n",
        ">\n",
        "> โดยถ้าเป็น operation พิเศษ หลัง `(` มักจะมีเครื่องหมาย `?` เพื่อบอกว่าต้องการตั้งค่าหรือตรวจจับอะไร\n",
        ">\n",
        "> หรือ `(\\ตัวเลข)` เช่น `(\\1)` `(\\2)` `(\\2)`\n",
        ">\n",
        "> การจับกลุ่มใน regular expression จะเริ่มนับกลุ่มแรกด้วยเลข 1 เสมอ\n",
        ">\n",
        "> Pattern 19\n",
        ">\n",
        "> `(?P<ja>pattern)` แบ่งเป็น 3 ส่วน\n",
        "> 1. `?P` เป็นตัวบอกว่าเรากำลังจะทำ group operation\n",
        "> 2. `<ja>` เป็นตัวบอกว่า เราจะใส่ชื่อให้กับกลุ่มนี้ว่า ja (best practice ในการตั้งชื่อกลุ่ม คือใส่ชื่อภาษาอังกฤษ ไม่มีตัวอักษรแปลกๆมาปน ไม่ผสมเล็กใหญ่ และห้ามซ้ำ)\n",
        "> 3. `pattern` ก็คือ pattern ที่เราใช้ในการจับตัวอักษรต่างๆเข้ามาอยู่ในกลุ่มที่ชื่อ ja\n",
        ">\n",
        "> `(\\1)` reference ไปถึงคำว่า \"ทดสอบ\" ที่ถูกจับได้ใน `(ทดสอบ)`\n",
        ">\n",
        "> การ reference ไปถึง group ที่เราจับไว้ก่อนหน้า จะไม่ใช่การบอก regular expression ว่า ชั้นจะใช้ pattern นี้อีกครั้งนะ แต่จะเป็นการบอกว่า เราจะใช้คำที่จับได้เมื่อกี๊ด้วย pattern นั้น มาจับตรงนี้ด้วยนะ\n",
        ">\n",
        "> ถ้างงลองเล่นกับ pattern ดูอีกทีครับ แทนที่ตัวอักษรด้วยอะไรแปลกๆ หรือลองเปลี่ยน text ที่โยนเข้าไปดู เป็นการทดลอง และทดสอบ เพื่อทำความเข้าใจ"
      ],
      "metadata": {
        "id": "eB1KxvrFfL5w"
      }
    },
    {
      "cell_type": "code",
      "source": [
        "pattern_19 = re.compile(r'(ทดสอบ)(?P<ja>.+)(\\1)')\n",
        "result = pattern_19.search(text)\n",
        "result"
      ],
      "metadata": {
        "id": "8IFA9aiCfuUB"
      },
      "execution_count": null,
      "outputs": []
    },
    {
      "cell_type": "markdown",
      "source": [
        "> ใน cell ก่อนหน้า ตัว pattern ที่เราเขียน คือ raw string ซึ่ง regular expression เข้าใจ `(\\1)` เป็นการ reference ถึงกลุ่มที่ 1 ได้ทันที\n",
        "> แต่ถ้าเป็น non-raw string จะต้องเขียนว่า `\\g<n>` โดย `n` จะเป็นเลข reference หรือชื่อที่เราตั้งก็ได้\n",
        "\n",
        "note: ตั้งแต่จุดนี้ไปจะมีการพูดถูก match object (ผลลัพธ์ของ re.search และ re.match)\n",
        "\n",
        "7. (match object) : Method expand --> parameter ที่ใส่เข้าไป คือ template text\n",
        "\n",
        "regular expression จะทำการเอา group ที่จับได้ ไป replace ใน reference ใน template"
      ],
      "metadata": {
        "id": "LjZrBZADhoXK"
      }
    },
    {
      "cell_type": "code",
      "source": [
        "result.expand('Found a word \\g<1> \\g<2> \\g<3>')"
      ],
      "metadata": {
        "id": "Cwwlca0ffuQX"
      },
      "execution_count": null,
      "outputs": []
    },
    {
      "cell_type": "markdown",
      "source": [
        "8. (match object) : Method group --> parameter ที่ใส่เข้าไปเลข reference หรือ ชื่อ group ที่เราจับมาได้\n",
        "  - อยากดูอะไรบ้าง ใส่ได้เรื่อยๆ และคั่นด้วย comma `,`\n",
        "  - ข้อมูลที่คืนมาคือ list ของข้อความที่จับมาได้\n",
        "\n",
        "9. (match object) : Method groups --> คืนข้อความทุก group ที่จับมาได้"
      ],
      "metadata": {
        "id": "DNWpI4HKmU-v"
      }
    },
    {
      "cell_type": "code",
      "source": [
        "result.group(1,'ja')"
      ],
      "metadata": {
        "id": "I9cXaJ1CfuMn"
      },
      "execution_count": null,
      "outputs": []
    },
    {
      "cell_type": "code",
      "source": [
        "result.groups()"
      ],
      "metadata": {
        "id": "F7MFOfamfuIU"
      },
      "execution_count": null,
      "outputs": []
    },
    {
      "cell_type": "code",
      "source": [
        "result = pattern_19.sub(r'\\2', text)\n",
        "result"
      ],
      "metadata": {
        "id": "CzPmaIV_jPbj"
      },
      "execution_count": null,
      "outputs": []
    },
    {
      "cell_type": "markdown",
      "source": [
        "> `(?P=test)` คือการ reference ไปถึงข้อความที่จับได้จาก `(?P<test>ทดสอบ)`"
      ],
      "metadata": {
        "id": "nQKMdqfSnvlo"
      }
    },
    {
      "cell_type": "code",
      "source": [
        "pattern_20 = re.compile(r'(?P<test>ทดสอบ)(?P<ja>จ้า)(?P=test)')\n",
        "result = pattern_20.search(text)\n",
        "result.groupdict()"
      ],
      "metadata": {
        "id": "BxMjNyX4fuBv"
      },
      "execution_count": null,
      "outputs": []
    },
    {
      "cell_type": "markdown",
      "source": [
        "> `\\g<test>` ต่างจาก `(?P=test)` ตรงที่ `(?P=test)` จะใช้ใน pattern เท่านั้น ส่วน `\\g<test>` จะใช้เป็น parameter ของ method ต่างๆ"
      ],
      "metadata": {
        "id": "owlaVZjSoa3-"
      }
    },
    {
      "cell_type": "code",
      "source": [
        "result = pattern_20.sub('\\g<test>', text)\n",
        "result"
      ],
      "metadata": {
        "id": "2bjYx2mIkUaf"
      },
      "execution_count": null,
      "outputs": []
    },
    {
      "cell_type": "markdown",
      "source": [
        "> \"Double parentheses\" (ซ้อนวงเล็บ)\n",
        ">\n",
        "> `(?(p1)Python)` คือการบอกว่า ถ้าจับกลุ่ม p1 ได้ ให้จับคำว่า Python ด้วย แต่ไม่ได้เก็บเป็นกลุ่ม\n",
        ">\n",
        "> `(?P<p2>...)` ที่ครอบ `(?(p1)Python)` อยู่อีกที คือการซ้อนเพื่อบอกว่า Python ที่จับได้ ให้เก็บเป็นกลุ่มชื่อ p2\n"
      ],
      "metadata": {
        "id": "wRC9oKR4rdBu"
      }
    },
    {
      "cell_type": "code",
      "source": [
        "pattern_21 = re.compile(r'(?P<p1>Pattern).+(?P<p2>(?(p1)Python))')\n",
        "result = pattern_21.search(text)\n",
        "result"
      ],
      "metadata": {
        "id": "oNYUz_aekeu5"
      },
      "execution_count": null,
      "outputs": []
    },
    {
      "cell_type": "markdown",
      "source": [
        "10. (match object) : Method groupdict --> คืน dict { ชื่อกลุ่ม: ข้อความที่จับได้, ...}\n",
        "11. (match object) : Method span --> คืนตัวเลขตำแหน่งเริ่มต้น และสิ้นสุดของ group นั้นที่เราต้องการ\n",
        "12. (match object) : Method start --> คืนตัวเลขตำแหน่งเริ่มต้นของ group นั้นที่เราต้องการ\n",
        "13. (match object) : Method end --> คืนตัวเลขตำแหน่งสิ้นสุดของ group นั้นที่เราต้องการ"
      ],
      "metadata": {
        "id": "9vbAGh-ltsdk"
      }
    },
    {
      "cell_type": "code",
      "source": [
        "result.groupdict()"
      ],
      "metadata": {
        "id": "GqF7uHBrk1-s"
      },
      "execution_count": null,
      "outputs": []
    },
    {
      "cell_type": "code",
      "source": [
        "result.span(1)"
      ],
      "metadata": {
        "id": "eQE2x6Jsldpc"
      },
      "execution_count": null,
      "outputs": []
    },
    {
      "cell_type": "code",
      "source": [
        "result.start(2), result.end(2)"
      ],
      "metadata": {
        "id": "dIabR6-olgZd"
      },
      "execution_count": null,
      "outputs": []
    },
    {
      "cell_type": "markdown",
      "source": [
        "#### Quantifiers and alternations"
      ],
      "metadata": {
        "id": "_aaoDnnZs01Q"
      }
    },
    {
      "cell_type": "code",
      "source": [
        "text"
      ],
      "metadata": {
        "id": "oaWMULfenUCs"
      },
      "execution_count": null,
      "outputs": []
    },
    {
      "cell_type": "markdown",
      "source": [
        "> **Alternation `|` vs Bracket `[]`**\n",
        ">\n",
        "> `(a|b)` กับ `[ab]` ทำงานเหมือนกัน เพราะเลือกตัวใดตัวหนึ่งจากในนี้\n",
        ">\n",
        "> แต่ `(apply|boy)` กับ `[apple|boy]` ทำงานต่างกัน\n",
        "> - `(apply|boy)` คือเลือกระหว่าง apply กับ boy\n",
        "> - `[apple|boy]` คือเลือกระหว่าง a, p, l, e, |, b, o, y มา 1 ตัว\n",
        "\n",
        "note: `(?:pattern)` เป็นการบอกว่า pattern นี่มาด้วยกันนะ แต่ไม่ต้องจับกลุ่มออกมาในผลลัพธ์"
      ],
      "metadata": {
        "id": "RTv__a2P0e_t"
      }
    },
    {
      "cell_type": "code",
      "source": [
        "pattern_22 = re.compile(r'(P(?:a|y)t(?:tern|hon)).+(P[ay]t[tern|hon])')\n",
        "result = pattern_22.search(text)\n",
        "result, result.groups()"
      ],
      "metadata": {
        "id": "G5SYDy0SnT1h"
      },
      "execution_count": null,
      "outputs": []
    },
    {
      "cell_type": "markdown",
      "source": [
        "> **Greedy behavior**\n",
        "> - quantifier `?`, `*`, `+`, `{m,n}` จะมีพฤติกรรมคือ จะ track ไปให้ไกลที่สุดเท่าที่จะไกลได้\n",
        ">\n",
        "> **Lazy behavior**\n",
        "> - คือการปรับให้ quantifier จับให้น้อยที่สุดเท่าที่จะน้อยได้ แต่ยังอยู่ภายในเงื่อนไข โดยการเติม `?` ไปด้านหลัง quantifier เดิม\n",
        ">\n",
        "> เช่น text \"ython Pythonn Paattern\"\n",
        ">\n",
        "> |Behavior|Pattern|ผลลัพธ์|\n",
        "> |-|-|-|\n",
        "> |Greedy `*`|P.*n| Pythonn Paattern|\n",
        "> |Lazy `*`|P.*?n|Pythonn|\n",
        "> |Greedy `{m,n}`|P.*?n{1, 2}|Pythonn|\n",
        "> |Lazy `{m,n}`|P.*?n{1, 2}?|Python|"
      ],
      "metadata": {
        "id": "v4kfOxfa1STa"
      }
    },
    {
      "cell_type": "code",
      "source": [
        "pattern_23 = re.compile(r'(P.+n)')\n",
        "result = pattern_23.search(text)\n",
        "result, result.groups()"
      ],
      "metadata": {
        "id": "VTMWMI-KnTyZ"
      },
      "execution_count": null,
      "outputs": []
    },
    {
      "cell_type": "code",
      "source": [
        "pattern_23 = re.compile(r'(P.*?n)')\n",
        "result = pattern_23.search(text)\n",
        "result, result.groups()"
      ],
      "metadata": {
        "id": "GuddTr4psSAZ"
      },
      "execution_count": null,
      "outputs": []
    },
    {
      "cell_type": "code",
      "source": [
        "pattern_24 = re.compile(r'(P.*?ns?)')\n",
        "result = pattern_24.search(text)\n",
        "result, result.groups()"
      ],
      "metadata": {
        "id": "zknYLfEtsd4O"
      },
      "execution_count": null,
      "outputs": []
    },
    {
      "cell_type": "code",
      "source": [
        "pattern_25 = re.compile(r'(P.{5})\\b')\n",
        "result = pattern_25.search(text)\n",
        "result, result.groups()"
      ],
      "metadata": {
        "id": "iUk6t01Isr1n"
      },
      "execution_count": null,
      "outputs": []
    },
    {
      "cell_type": "code",
      "source": [
        "pattern_26 = re.compile(r'(P.{5,6})\\b')\n",
        "result = pattern_26.search(text)\n",
        "result, result.groups()"
      ],
      "metadata": {
        "id": "8W2ODGd0s7TX"
      },
      "execution_count": null,
      "outputs": []
    },
    {
      "cell_type": "code",
      "source": [
        "pattern_27 = re.compile(r'(P.{,6})\\b')\n",
        "result = pattern_27.search(text)\n",
        "result, result.groups()"
      ],
      "metadata": {
        "id": "YoMn3yDNs-Zm"
      },
      "execution_count": null,
      "outputs": []
    },
    {
      "cell_type": "code",
      "source": [
        "pattern_28 = re.compile(r'(P.{5,})\\b')\n",
        "result = pattern_28.search(text)\n",
        "result, result.groups()"
      ],
      "metadata": {
        "id": "Co81mCnUtBNu"
      },
      "execution_count": null,
      "outputs": []
    },
    {
      "cell_type": "code",
      "source": [
        "pattern_29 = re.compile(r'(P.{5,}?)\\b')\n",
        "result = pattern_29.search(text)\n",
        "result, result.groups()"
      ],
      "metadata": {
        "id": "P0MKjNUYtRvx"
      },
      "execution_count": null,
      "outputs": []
    },
    {
      "cell_type": "markdown",
      "source": [
        "#### Lookaround (ข้าม)"
      ],
      "metadata": {
        "id": "K2d3LV21s4s7"
      }
    },
    {
      "cell_type": "code",
      "source": [
        "text"
      ],
      "metadata": {
        "id": "ne57ySOLstl8"
      },
      "execution_count": null,
      "outputs": []
    },
    {
      "cell_type": "markdown",
      "source": [
        "> **Lookaround แบ่งเป็น** 2 แบบ\n",
        ">\n",
        "> operation ในที่นี้ไม่ได้ถูกจัดกลุ่ม แต่เป็นแค่การทำ group operation เฉยๆ\n",
        "> 1. Lookahead คือการเขียน group operation เพื่อกำกับ pattern ข้างหน้า\n",
        "> 2. Loogbehind คือการเขียนกรุ๊ป group operation เพื่อกำกับ pattern ข้างหลัง\n",
        ">\n",
        "> โดยจะมี 2 พฤติกรรมคือ\n",
        "> 1. positive - แปลว่า pattern ต้องมาด้วยกัน\n",
        "> 2. negative - แปลว่า pattern ต้องไม่มาด้วยกัน\n",
        ">\n",
        "> อ่านต่อตัวอย่างได้ใน github หลักของ notebook นี้ครับ"
      ],
      "metadata": {
        "id": "dx4_wkW-6yJ_"
      }
    },
    {
      "cell_type": "code",
      "source": [
        "pattern_30 = re.compile(r'P(?=attern)')\n",
        "pattern_30.search(text)"
      ],
      "metadata": {
        "id": "yx-xnCzXuBMt"
      },
      "execution_count": null,
      "outputs": []
    },
    {
      "cell_type": "code",
      "source": [
        "pattern_31 = re.compile(r'P(?!attern)')\n",
        "pattern_31.search(text)"
      ],
      "metadata": {
        "id": "wFS4Kg6_ub34"
      },
      "execution_count": null,
      "outputs": []
    },
    {
      "cell_type": "code",
      "source": [
        "pattern_32 = re.compile(r'(?<=ทด)สอบ')\n",
        "pattern_32.search(text)"
      ],
      "metadata": {
        "id": "6lxiQC2Jul8t"
      },
      "execution_count": null,
      "outputs": []
    },
    {
      "cell_type": "code",
      "source": [
        "pattern_33 = re.compile(r'(?<!ทด)สอบ')\n",
        "pattern_33.search(text)"
      ],
      "metadata": {
        "id": "niQ5ua5fv9t3"
      },
      "execution_count": null,
      "outputs": []
    },
    {
      "cell_type": "markdown",
      "source": [
        "### **2. Flag**\n",
        "\n",
        "ใช้กำกับพฤติกรรมของ pattern การใช้หลาย flag ร่วมกันสามารทำได้โดย bitwise OR เช่น `re.I|re.M|re.S`\n",
        "\n",
        "[ตาราง Flag ที่ใช้บ่อย](https://github.com/benzerer/python-regular-expression-guide/blob/main/README.md#%E0%B8%95%E0%B8%B2%E0%B8%A3%E0%B8%B2%E0%B8%87-regex-flag-%E0%B8%97%E0%B8%B5%E0%B9%88%E0%B9%83%E0%B8%8A%E0%B9%89%E0%B9%83%E0%B8%99-python)\n",
        "\n",
        "หลังจากอ่านแล้ว สามารถลองนำมาดูได้ว่ามันปรับพฤติกรรมของ regular expression ยังไง"
      ],
      "metadata": {
        "id": "uCTINexKsKaV"
      }
    },
    {
      "cell_type": "code",
      "source": [
        "text"
      ],
      "metadata": {
        "id": "P0pQmSyAxeIO"
      },
      "execution_count": null,
      "outputs": []
    },
    {
      "cell_type": "code",
      "source": [
        "pattern_34 = re.compile('[a-z]attern', re.I)\n",
        "pattern_34.search(text)"
      ],
      "metadata": {
        "id": "txylXTQdsNwA"
      },
      "execution_count": null,
      "outputs": []
    },
    {
      "cell_type": "code",
      "source": [
        "pattern_22 = re.compile(r'(?P<p1>ทดสอบ).+(?P<p2>(?(p1)python))')\n",
        "result = pattern_22.search(text)\n",
        "result"
      ],
      "metadata": {
        "id": "zFojgETNwO9E"
      },
      "execution_count": null,
      "outputs": []
    },
    {
      "cell_type": "code",
      "source": [
        "pattern_23 = re.compile(r'(?P<p1>ทดสอบ).+(?P<p2>(?(p1)python))', re.I|re.S)\n",
        "result = pattern_23.search(text)\n",
        "result, result.groups()"
      ],
      "metadata": {
        "id": "xqpK9rcawfMd"
      },
      "execution_count": null,
      "outputs": []
    },
    {
      "cell_type": "code",
      "source": [
        "pattern_24 = re.compile(r'^p.+?\\b', re.I|re.S)\n",
        "result = pattern_24.search(text)\n",
        "result"
      ],
      "metadata": {
        "id": "SrRp5syZwmZT"
      },
      "execution_count": null,
      "outputs": []
    },
    {
      "cell_type": "code",
      "source": [
        "pattern_25 = re.compile(r'^p.+?\\b', re.I|re.S|re.M)\n",
        "result = pattern_25.search(text)\n",
        "result"
      ],
      "metadata": {
        "id": "d_oAnvgyw64p"
      },
      "execution_count": null,
      "outputs": []
    },
    {
      "cell_type": "markdown",
      "source": [
        "สามารถส่งคำถามมาได้ที่ [ช่องทางนี้](https://github.com/benzerer/python-regular-expression-guide/issues)\n",
        "\n",
        "ส่วนน้องๆ KMUTNB สามารถติดต่อพี่ได้มาทาง Facebook ชื่อตามใน slide ได้เลยครับ"
      ],
      "metadata": {
        "id": "ui6ZM74F-99a"
      }
    },
    {
      "cell_type": "code",
      "source": [],
      "metadata": {
        "id": "VrNoRIQ6_wX4"
      },
      "execution_count": null,
      "outputs": []
    }
  ],
  "metadata": {
    "colab": {
      "name": "scratchpad",
      "provenance": [],
      "include_colab_link": true
    },
    "kernelspec": {
      "display_name": "Python 3",
      "name": "python3"
    }
  },
  "nbformat": 4,
  "nbformat_minor": 0
}