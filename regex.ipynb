{
  "cells": [
    {
      "cell_type": "markdown",
      "metadata": {
        "id": "view-in-github",
        "colab_type": "text"
      },
      "source": [
        "<a href=\"https://colab.research.google.com/github/benzerer/python-regular-expression-guide/blob/main/regex.ipynb\" target=\"_parent\"><img src=\"https://colab.research.google.com/assets/colab-badge.svg\" alt=\"Open In Colab\"/></a>"
      ]
    },
    {
      "cell_type": "markdown",
      "source": [
        "# **Regular Expression in python**"
      ],
      "metadata": {
        "id": "NbBMIpyfTDBk"
      }
    },
    {
      "cell_type": "markdown",
      "source": [
        "## ส่วนประกอบของ Regular expression object (re object)\n",
        "\n",
        "การใช้งาน regular expression เบื้องต้น มีส่วนประกอบหลัก 2 ส่วนคือ\n",
        "1. Pattern -- รูปแบบของตัวอักษรที่เราต้องการใช้งาน เพื่อค้นหา ตรวจสอบ แทนที่ หรือแยกส่วนคำ\n",
        "2. Flag -- ตัวกำกับ \"พฤติกรรม\" ของ pattern เช่น\n",
        "  - มองตัวอักษรพิมพ์เล็กและพิมพ์ใหญ่เป็นตัวเดียวกัน\n",
        "  - ไม่สนใจบรรทัดใหม่ (\\n)"
      ],
      "metadata": {
        "id": "gKoQ2W2-TKgd"
      }
    },
    {
      "cell_type": "code",
      "execution_count": null,
      "metadata": {
        "id": "lIYdn1woOS1n"
      },
      "outputs": [],
      "source": []
    }
  ],
  "metadata": {
    "colab": {
      "name": "scratchpad",
      "provenance": [],
      "include_colab_link": true
    },
    "kernelspec": {
      "display_name": "Python 3",
      "name": "python3"
    }
  },
  "nbformat": 4,
  "nbformat_minor": 0
}