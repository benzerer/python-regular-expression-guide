{
  "cells": [
    {
      "cell_type": "markdown",
      "metadata": {
        "id": "view-in-github",
        "colab_type": "text"
      },
      "source": [
        "<a href=\"https://colab.research.google.com/github/benzerer/python-regular-expression-guide/blob/main/regex.ipynb\" target=\"_parent\"><img src=\"https://colab.research.google.com/assets/colab-badge.svg\" alt=\"Open In Colab\"/></a>"
      ]
    },
    {
      "cell_type": "markdown",
      "source": [
        "# **Regular Expression in python**"
      ],
      "metadata": {
        "id": "NbBMIpyfTDBk"
      }
    },
    {
      "cell_type": "markdown",
      "source": [
        "## ส่วนประกอบของ Regular expression object (re object)\n",
        "\n",
        "การใช้งาน regular expression เบื้องต้น มีส่วนประกอบหลัก 2 ส่วนคือ\n",
        "1. Pattern -- รูปแบบของตัวอักษรที่เราต้องการใช้งาน เพื่อค้นหา ตรวจสอบ แทนที่ หรือแยกส่วนคำ\n",
        "2. Flag -- ตัวกำกับ \"พฤติกรรม\" ของ pattern เช่น\n",
        "  - มองตัวอักษรพิมพ์เล็กและพิมพ์ใหญ่เป็นตัวเดียวกัน\n",
        "  - ไม่สนใจบรรทัดใหม่ (\\n)\n",
        "\n",
        "ในตัวอย่างและคำอธิบายด้านล่าง\n",
        "\n",
        "จะมีเนื้อหาที่เล่าถึง compiled re object และ match object ไปในตัวเลย :)"
      ],
      "metadata": {
        "id": "gKoQ2W2-TKgd"
      }
    },
    {
      "cell_type": "markdown",
      "source": [
        "### **1. Pattern**\n",
        "\n",
        "- แบบง่ายที่สุด เป็นคำหรือตัวอักษรอะไรก็ได้ต่อกัน เช่น `สวัสดี`, `hello`, `email`, etc...\n",
        "- แบบที่ซับซ้อนขึ้น คือการมีตัวกำกับ (special characters) บอกถึงพฤติกรรมของคำหรือตัวอักษรที่เราเขียน เพิ่มความยืดหยุ่น และในหลายๆครั้งก็ช่วยประหยัดเวลา\n",
        "\n",
        "โดยตัวกับกับจะมีประเภทดังต่อไปนี้\n",
        "\n",
        "1. **Character classes** -- ใช้แทนการเขียนตัวอักษรหลายๆตัว เช่น `\\w` คือตัวแทนของตัวอักษรทุกตัวที่เป็น A-Z ทั้งตัวเล็กใหญ่ หรือตัวเลข 0-9\n",
        "2. **Anchor** -- ใช้ระบุการเริ่มต้นและสิ้นสุดของบรรทัด หรือคำ เช่น `^` คือขึ้นต้นของบรรทัด\n",
        "3. **Escaped characters** -- ใช้ระบุตัวอักษรพิเศษ เช่น `\\t` tab, `\\n` new line, `\\f` feed, `\\r` return, `\\u00A9` ©\n",
        "4. **Groups and references** -- ใช้จัดกลุ่มตัวอักษร หรือตั้งชื่อให้กลุ่มตัวอักษร เช่น เขียน pattern ของ email แล้วตั้งชื่อให้ตัวอักษรที่ match ได้ว่า email\n",
        "5. **Quantifiers and alternations** -- ใช้ระบุจำนวนตัวอักษรที่ซ้ำกัน เช่น `A{4}` จะจับ `AAAA` (A 4 ตัว) ในข้อความออกมา\n",
        "6. **Lookaround** -- ใช้จับตัวอักษรตามเงื่อนไข เช่น คำที่ตามหลังด้วย `ing` หรือคำที่นำหน้าด้วย `pre`\n",
        "\n",
        "[ตารางตัวกำกับที่ใช้บ่อย](https://github.com/benzerer/python-regular-expression-guide/blob/main/README.md#%E0%B8%95%E0%B8%B2%E0%B8%A3%E0%B8%B2%E0%B8%87%E0%B8%95%E0%B8%B1%E0%B8%A7%E0%B8%81%E0%B8%B3%E0%B8%81%E0%B8%B1%E0%B8%9A-special-characters-%E0%B8%82%E0%B8%AD%E0%B8%87-regex-%E0%B9%83%E0%B8%99-python)\n",
        "\n"
      ],
      "metadata": {
        "id": "4Jcg2S8VXuEB"
      }
    },
    {
      "cell_type": "code",
      "execution_count": 1,
      "metadata": {
        "id": "lIYdn1woOS1n"
      },
      "outputs": [],
      "source": [
        "# Load library ที่จำเป็นสำหรับการแสดงตัวอย่าง\n",
        "import doctest\n",
        "import re"
      ]
    },
    {
      "cell_type": "markdown",
      "source": [
        "#### Character classes"
      ],
      "metadata": {
        "id": "J5oLvSpKsTDN"
      }
    },
    {
      "cell_type": "code",
      "source": [
        "# Example"
      ],
      "metadata": {
        "id": "GM2HsOioiM63"
      },
      "execution_count": null,
      "outputs": []
    },
    {
      "cell_type": "code",
      "source": [
        "# Test"
      ],
      "metadata": {
        "id": "R4RWCnPfsbM2"
      },
      "execution_count": null,
      "outputs": []
    },
    {
      "cell_type": "markdown",
      "source": [
        "#### Anchor"
      ],
      "metadata": {
        "id": "MTszXla1sa4h"
      }
    },
    {
      "cell_type": "code",
      "source": [
        "# Example"
      ],
      "metadata": {
        "id": "DZGzVNQHshlc"
      },
      "execution_count": null,
      "outputs": []
    },
    {
      "cell_type": "code",
      "source": [
        "# Test"
      ],
      "metadata": {
        "id": "9mYj9LxtshGd"
      },
      "execution_count": null,
      "outputs": []
    },
    {
      "cell_type": "markdown",
      "source": [
        "#### Escaped characters"
      ],
      "metadata": {
        "id": "ZctyF2tYslOz"
      }
    },
    {
      "cell_type": "code",
      "source": [
        "# Example"
      ],
      "metadata": {
        "id": "_LcZaywQsoQB"
      },
      "execution_count": null,
      "outputs": []
    },
    {
      "cell_type": "code",
      "source": [
        "# Test"
      ],
      "metadata": {
        "id": "9Tt5jg04soFG"
      },
      "execution_count": null,
      "outputs": []
    },
    {
      "cell_type": "markdown",
      "source": [
        "#### Groups and references"
      ],
      "metadata": {
        "id": "5mqsHNylsziV"
      }
    },
    {
      "cell_type": "code",
      "source": [
        "# Example"
      ],
      "metadata": {
        "id": "wY5NywOast2Y"
      },
      "execution_count": null,
      "outputs": []
    },
    {
      "cell_type": "code",
      "source": [
        "# Test"
      ],
      "metadata": {
        "id": "6t3rY-Tustty"
      },
      "execution_count": null,
      "outputs": []
    },
    {
      "cell_type": "markdown",
      "source": [
        "#### Quantifiers and alternations"
      ],
      "metadata": {
        "id": "_aaoDnnZs01Q"
      }
    },
    {
      "cell_type": "code",
      "source": [
        "# Example"
      ],
      "metadata": {
        "id": "dfX1XTkastrb"
      },
      "execution_count": null,
      "outputs": []
    },
    {
      "cell_type": "code",
      "source": [
        "# Test"
      ],
      "metadata": {
        "id": "4-XvzYppstol"
      },
      "execution_count": null,
      "outputs": []
    },
    {
      "cell_type": "markdown",
      "source": [
        "#### Lookaround"
      ],
      "metadata": {
        "id": "K2d3LV21s4s7"
      }
    },
    {
      "cell_type": "code",
      "source": [
        "# Example"
      ],
      "metadata": {
        "id": "ne57ySOLstl8"
      },
      "execution_count": null,
      "outputs": []
    },
    {
      "cell_type": "code",
      "source": [
        "# Test"
      ],
      "metadata": {
        "id": "oowsQA5UstjY"
      },
      "execution_count": null,
      "outputs": []
    },
    {
      "cell_type": "markdown",
      "source": [
        "### **2. Flag**\n",
        "\n",
        "ใช้กำกับพฤติกรรมของ pattern การใช้หลาย flag ร่วมกันสามารทำได้โดย bitwise OR เช่น `re.I|re.M|re.S`\n",
        "\n",
        "[ตาราง Flag ที่ใช้บ่อย](https://github.com/benzerer/python-regular-expression-guide/blob/main/README.md#%E0%B8%95%E0%B8%B2%E0%B8%A3%E0%B8%B2%E0%B8%87-regex-flag-%E0%B8%97%E0%B8%B5%E0%B9%88%E0%B9%83%E0%B8%8A%E0%B9%89%E0%B9%83%E0%B8%99-python)"
      ],
      "metadata": {
        "id": "uCTINexKsKaV"
      }
    },
    {
      "cell_type": "code",
      "source": [],
      "metadata": {
        "id": "txylXTQdsNwA"
      },
      "execution_count": null,
      "outputs": []
    }
  ],
  "metadata": {
    "colab": {
      "name": "scratchpad",
      "provenance": [],
      "toc_visible": true,
      "include_colab_link": true
    },
    "kernelspec": {
      "display_name": "Python 3",
      "name": "python3"
    }
  },
  "nbformat": 4,
  "nbformat_minor": 0
}