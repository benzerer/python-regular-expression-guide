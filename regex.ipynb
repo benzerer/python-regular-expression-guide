{
  "cells": [
    {
      "cell_type": "markdown",
      "metadata": {
        "id": "view-in-github",
        "colab_type": "text"
      },
      "source": [
        "<a href=\"https://colab.research.google.com/github/benzerer/python-regular-expression-guide/blob/main/regex.ipynb\" target=\"_parent\"><img src=\"https://colab.research.google.com/assets/colab-badge.svg\" alt=\"Open In Colab\"/></a>"
      ]
    },
    {
      "cell_type": "markdown",
      "source": [
        "# **Regular Expression in python**"
      ],
      "metadata": {
        "id": "NbBMIpyfTDBk"
      }
    },
    {
      "cell_type": "markdown",
      "source": [
        "## ส่วนประกอบของ Regular expression object (re object)\n",
        "\n",
        "การใช้งาน regular expression เบื้องต้น มีส่วนประกอบหลัก 2 ส่วนคือ\n",
        "1. Pattern -- รูปแบบของตัวอักษรที่เราต้องการใช้งาน เพื่อค้นหา ตรวจสอบ แทนที่ หรือแยกส่วนคำ\n",
        "2. Flag -- ตัวกำกับ \"พฤติกรรม\" ของ pattern เช่น\n",
        "  - มองตัวอักษรพิมพ์เล็กและพิมพ์ใหญ่เป็นตัวเดียวกัน\n",
        "  - ไม่สนใจบรรทัดใหม่ (\\n)\n",
        "\n",
        "ในตัวอย่างและคำอธิบายด้านล่าง\n",
        "\n",
        "จะมีเนื้อหาที่เล่าถึง compiled re object และ match object ไปในตัวเลย :)"
      ],
      "metadata": {
        "id": "gKoQ2W2-TKgd"
      }
    },
    {
      "cell_type": "markdown",
      "source": [
        "### **1. Pattern**\n",
        "\n",
        "- แบบง่ายที่สุด เป็นคำหรือตัวอักษรอะไรก็ได้ต่อกัน เช่น `สวัสดี`, `hello`, `email`, etc...\n",
        "- แบบที่ซับซ้อนขึ้น คือการมีตัวกำกับ (special characters) บอกถึงพฤติกรรมของคำหรือตัวอักษรที่เราเขียน เพิ่มความยืดหยุ่น และในหลายๆครั้งก็ช่วยประหยัดเวลา\n",
        "\n",
        "โดยตัวกับกับจะมีประเภทดังต่อไปนี้\n",
        "\n",
        "1. **Character classes** -- ใช้แทนการเขียนตัวอักษรหลายๆตัว เช่น `\\w` คือตัวแทนของตัวอักษรทุกตัวที่เป็น A-Z ทั้งตัวเล็กใหญ่ หรือตัวเลข 0-9\n",
        "2. **Anchor** -- ใช้ระบุการเริ่มต้นและสิ้นสุดของบรรทัด หรือคำ เช่น `^` คือขึ้นต้นของบรรทัด\n",
        "3. **Escaped characters** -- ใช้ระบุตัวอักษรพิเศษ เช่น `\\t` tab, `\\n` new line, `\\f` feed, `\\r` return, `\\u00A9` ©\n",
        "4. **Groups and references** -- ใช้จัดกลุ่มตัวอักษร หรือตั้งชื่อให้กลุ่มตัวอักษร เช่น เขียน pattern ของ email แล้วตั้งชื่อให้ตัวอักษรที่ match ได้ว่า email\n",
        "5. **Quantifiers and alternations** -- ใช้ระบุจำนวนตัวอักษรที่ซ้ำกัน เช่น `A{4}` จะจับ `AAAA` (A 4 ตัว) ในข้อความออกมา\n",
        "6. **Lookaround** -- ใช้จับตัวอักษรตามเงื่อนไข เช่น คำที่ตามหลังด้วย `ing` หรือคำที่นำหน้าด้วย `pre`\n",
        "\n",
        "[ตารางตัวกำกับที่ใช้บ่อย](https://github.com/benzerer/python-regular-expression-guide/blob/main/README.md#%E0%B8%95%E0%B8%B2%E0%B8%A3%E0%B8%B2%E0%B8%87%E0%B8%95%E0%B8%B1%E0%B8%A7%E0%B8%81%E0%B8%B3%E0%B8%81%E0%B8%B1%E0%B8%9A-special-characters-%E0%B8%82%E0%B8%AD%E0%B8%87-regex-%E0%B9%83%E0%B8%99-python)\n",
        "\n"
      ],
      "metadata": {
        "id": "4Jcg2S8VXuEB"
      }
    },
    {
      "cell_type": "code",
      "execution_count": 119,
      "metadata": {
        "id": "lIYdn1woOS1n"
      },
      "outputs": [],
      "source": [
        "import re\n",
        "\n",
        "text = '''ทดสอบจ้าทดสอบ -- .(-_-).\n",
        "Pattern และตัวกำกับ 6 แบบใน Python 3 © \\(^_^)/'''"
      ]
    },
    {
      "cell_type": "markdown",
      "source": [
        "#### Character classes"
      ],
      "metadata": {
        "id": "J5oLvSpKsTDN"
      }
    },
    {
      "cell_type": "code",
      "source": [
        "# การใช้ re module โดยตรง\n",
        "# สะดวกกับการใช้งานครั้งเดียว\n",
        "# โดยโยน pattern ใส่ลงไปใน method\n",
        "\n",
        "# Method search --> match object\n",
        "# หาตำแหน่งแรกที่ตรงเงื่อนไข\n",
        "pattern_1 = '[NLP]ython'\n",
        "result = re.search(pattern_1, text)\n",
        "print(result)"
      ],
      "metadata": {
        "id": "GM2HsOioiM63"
      },
      "execution_count": null,
      "outputs": []
    },
    {
      "cell_type": "code",
      "source": [
        "# การ Compile คือการทำให้ pattern กลายเป็น re object\n",
        "# ช่วยให้การทำงานจำนวนมาก มีความเร็วที่มากขึ้น\n",
        "# เพิ่มความเรียบร้อยของตัว code\n",
        "# และเป็นไปตามหลักการ DRY (Don't Repeat Yourself)\n",
        "\n",
        "# Method match --> match object\n",
        "# เอาเงื่อนไขไปจับตั้งแต่ beginning\n",
        "pattern_2 = re.compile('[^123456789]')\n",
        "result = pattern_2.match(text)\n",
        "print(result)"
      ],
      "metadata": {
        "id": "PjUq1h07e16Z"
      },
      "execution_count": null,
      "outputs": []
    },
    {
      "cell_type": "code",
      "source": [
        "# Method split --> list(str)\n",
        "# ใช้ pattern ในการตัด\n",
        "pattern_3 = re.compile('[A-Z]attern')\n",
        "result = pattern_3.split(text)\n",
        "print(result)"
      ],
      "metadata": {
        "id": "tyNxA0vse7LP"
      },
      "execution_count": null,
      "outputs": []
    },
    {
      "cell_type": "code",
      "source": [
        "pattern_4 = re.compile('\\s')\n",
        "result = pattern_4.split(text)\n",
        "print(result)"
      ],
      "metadata": {
        "id": "CV-S2U9Ne9tX"
      },
      "execution_count": null,
      "outputs": []
    },
    {
      "cell_type": "code",
      "source": [
        "# Method split --> str\n",
        "# แทนที่ pattern\n",
        "pattern_5 = re.compile('\\S')\n",
        "result = pattern_5.sub('-', text)\n",
        "print(result)"
      ],
      "metadata": {
        "id": "Ax_w6kWFfBDd"
      },
      "execution_count": null,
      "outputs": []
    },
    {
      "cell_type": "code",
      "source": [
        "# Method findall --> list(str)\n",
        "# คล้าย search แต่ match มากกว่า 1 ครั้ง\n",
        "pattern_6 = re.compile('\\wดสอบ')\n",
        "result = pattern_6.findall(text)\n",
        "print(result)"
      ],
      "metadata": {
        "id": "vxBnTmqjfC0P"
      },
      "execution_count": null,
      "outputs": []
    },
    {
      "cell_type": "code",
      "source": [
        "# สระหรือวรรณยุกต์ในภาษาไทย ถือเป็น non-word characters\n",
        "pattern_7 = re.compile('\\W')\n",
        "pattern_7.sub('_', text)"
      ],
      "metadata": {
        "id": "_N8kcJANfE-O"
      },
      "execution_count": null,
      "outputs": []
    },
    {
      "cell_type": "code",
      "source": [
        "pattern_8 = re.compile('\\s\\d\\s')\n",
        "pattern_8.split(text)"
      ],
      "metadata": {
        "id": "dmPDl8dLfHfg"
      },
      "execution_count": null,
      "outputs": []
    },
    {
      "cell_type": "code",
      "source": [
        "pattern_9 = re.compile('\\D')\n",
        "pattern_9.sub('-', text)"
      ],
      "metadata": {
        "id": "owL_XihafJgl"
      },
      "execution_count": null,
      "outputs": []
    },
    {
      "cell_type": "code",
      "source": [
        "# Method fullmatch --> match object\n",
        "# ทั้ง text ต้องตรงตาม pattern 100%\n",
        "pattern_10 = re.compile('.')\n",
        "pattern_10.fullmatch(text)"
      ],
      "metadata": {
        "id": "g87ynUSXfLLh"
      },
      "execution_count": 274,
      "outputs": []
    },
    {
      "cell_type": "markdown",
      "source": [
        "#### Anchor"
      ],
      "metadata": {
        "id": "MTszXla1sa4h"
      }
    },
    {
      "cell_type": "code",
      "source": [
        "text"
      ],
      "metadata": {
        "id": "x16qAlU9t5kz"
      },
      "execution_count": null,
      "outputs": []
    },
    {
      "cell_type": "code",
      "source": [
        "# ^ anchor เปลี่ยนพฤติกรรมของ search, findall\n",
        "pattern_11 = re.compile('^ทดสอบ')\n",
        "result_1 = pattern_11.match(text)\n",
        "result_2 = pattern_11.search(text)\n",
        "result_3 = pattern_11.findall(text)\n",
        "print(result_1, result_2, result_3)"
      ],
      "metadata": {
        "id": "DZGzVNQHshlc"
      },
      "execution_count": null,
      "outputs": []
    },
    {
      "cell_type": "code",
      "source": [
        "# $ anchor เปลี่ยนพฤติกรรมของ search, findall เช่นกัน\n",
        "# เมื่อใช้ $ แล้ว match กับ fullmatch แทบจะทำงานเหมือนกัน\n",
        "pattern_12 = re.compile('\\d$')\n",
        "result_1 = pattern_12.match(text)\n",
        "result_2 = pattern_12.search(text)\n",
        "result_3 = pattern_12.findall(text)\n",
        "print(result_1, result_2, result_3)"
      ],
      "metadata": {
        "id": "q3g99s2AfPci"
      },
      "execution_count": null,
      "outputs": []
    },
    {
      "cell_type": "code",
      "source": [
        "# \\b anchor มองสระหรือวรรณยุกต์ในภาษาไทยเป็น non-word\n",
        "# r'abcd' เรียกว่า raw string มีผลกับการ escape ตัวอักษร\n",
        "pattern_13 = re.compile(r'\\w\\b')\n",
        "result_1 = pattern_13.match(text)\n",
        "result_2 = pattern_13.search(text)\n",
        "result_3 = pattern_13.findall(text)\n",
        "print(result_1, result_2, result_3)"
      ],
      "metadata": {
        "id": "3kM_z5_2fPQV"
      },
      "execution_count": null,
      "outputs": []
    },
    {
      "cell_type": "markdown",
      "source": [
        "#### Escaped characters"
      ],
      "metadata": {
        "id": "ZctyF2tYslOz"
      }
    },
    {
      "cell_type": "code",
      "source": [
        "text"
      ],
      "metadata": {
        "id": "hxiXwxL-tzo9"
      },
      "execution_count": null,
      "outputs": []
    },
    {
      "cell_type": "code",
      "source": [
        "# raw string มีผลกับการ escape ตัวอักษร \"\\\"\n",
        "pattern_14 = re.compile(r'\\\\......')\n",
        "pattern_14.sub(':)', text)"
      ],
      "metadata": {
        "id": "_LcZaywQsoQB"
      },
      "execution_count": null,
      "outputs": []
    },
    {
      "cell_type": "code",
      "source": [
        "# regular expression มองเป็น '\\......'\n",
        "# ตีความว่าเรา escape \".\"\n",
        "pattern_15 = re.compile('\\\\.......')\n",
        "pattern_15.sub(':)', text, count=1)"
      ],
      "metadata": {
        "id": "KYAgkGXlfaaR"
      },
      "execution_count": null,
      "outputs": []
    },
    {
      "cell_type": "code",
      "source": [
        "# regular expression มองเป็น '\\\\......'\n",
        "# ตีความว่าเรา escape \"\\\"\n",
        "pattern_16 = re.compile('\\\\\\\\......')\n",
        "pattern_16.sub(':)', text)"
      ],
      "metadata": {
        "id": "XxmlrM1ufaXT"
      },
      "execution_count": null,
      "outputs": []
    },
    {
      "cell_type": "code",
      "source": [
        "pattern_17 = re.compile(r'\\u00A9')\n",
        "pattern_17.split(text)"
      ],
      "metadata": {
        "id": "s9fW_HDXfaUM"
      },
      "execution_count": null,
      "outputs": []
    },
    {
      "cell_type": "code",
      "source": [
        "pattern_18 = re.compile(r'\\n')\n",
        "pattern_18.search(text)"
      ],
      "metadata": {
        "id": "jQfPgUEffgLA"
      },
      "execution_count": null,
      "outputs": []
    },
    {
      "cell_type": "markdown",
      "source": [
        "#### Groups and references"
      ],
      "metadata": {
        "id": "5mqsHNylsziV"
      }
    },
    {
      "cell_type": "code",
      "source": [
        "text"
      ],
      "metadata": {
        "id": "wY5NywOast2Y"
      },
      "execution_count": null,
      "outputs": []
    },
    {
      "cell_type": "code",
      "source": [
        "pattern_19 = re.compile(r'(ทดสอบ)(?P<ja>.+)(\\1)')\n",
        "result = pattern_19.search(text)\n",
        "result"
      ],
      "metadata": {
        "id": "8IFA9aiCfuUB"
      },
      "execution_count": null,
      "outputs": []
    },
    {
      "cell_type": "code",
      "source": [
        "# non-raw string ใช้ \\g<n>\n",
        "result.expand('Found a word \\g<1> \\g<2> \\g<3>')"
      ],
      "metadata": {
        "id": "Cwwlca0ffuQX"
      },
      "execution_count": null,
      "outputs": []
    },
    {
      "cell_type": "code",
      "source": [
        "result.group(1,'ja')"
      ],
      "metadata": {
        "id": "I9cXaJ1CfuMn"
      },
      "execution_count": null,
      "outputs": []
    },
    {
      "cell_type": "code",
      "source": [
        "result.groups()"
      ],
      "metadata": {
        "id": "F7MFOfamfuIU"
      },
      "execution_count": null,
      "outputs": []
    },
    {
      "cell_type": "code",
      "source": [
        "# raw string ไม่ต้องมี g<>\n",
        "result = pattern_19.sub(r'\\2', text)\n",
        "result"
      ],
      "metadata": {
        "id": "CzPmaIV_jPbj"
      },
      "execution_count": null,
      "outputs": []
    },
    {
      "cell_type": "code",
      "source": [
        "pattern_20 = re.compile(r'(?P<test>ทดสอบ)(?P<ja>จ้า)(?P=test)')\n",
        "result = pattern_20.search(text)\n",
        "result.groupdict()"
      ],
      "metadata": {
        "id": "BxMjNyX4fuBv"
      },
      "execution_count": null,
      "outputs": []
    },
    {
      "cell_type": "code",
      "source": [
        "# named group ต้องมี g<> เสมอ\n",
        "result = pattern_20.sub('\\g<test>', text)\n",
        "result"
      ],
      "metadata": {
        "id": "2bjYx2mIkUaf"
      },
      "execution_count": null,
      "outputs": []
    },
    {
      "cell_type": "code",
      "source": [
        "# Double parentheses\n",
        "pattern_21 = re.compile(r'(?P<p1>Pattern).+(?P<p2>(?(p1)Python))')\n",
        "result = pattern_21.search(text)\n",
        "result"
      ],
      "metadata": {
        "id": "oNYUz_aekeu5"
      },
      "execution_count": null,
      "outputs": []
    },
    {
      "cell_type": "code",
      "source": [
        "result.groupdict()"
      ],
      "metadata": {
        "id": "GqF7uHBrk1-s"
      },
      "execution_count": null,
      "outputs": []
    },
    {
      "cell_type": "code",
      "source": [
        "result.span(1)"
      ],
      "metadata": {
        "id": "eQE2x6Jsldpc"
      },
      "execution_count": null,
      "outputs": []
    },
    {
      "cell_type": "code",
      "source": [
        "result.start(2), result.end(2)"
      ],
      "metadata": {
        "id": "dIabR6-olgZd"
      },
      "execution_count": null,
      "outputs": []
    },
    {
      "cell_type": "markdown",
      "source": [
        "#### Quantifiers and alternations"
      ],
      "metadata": {
        "id": "_aaoDnnZs01Q"
      }
    },
    {
      "cell_type": "code",
      "source": [
        "text"
      ],
      "metadata": {
        "id": "oaWMULfenUCs"
      },
      "execution_count": null,
      "outputs": []
    },
    {
      "cell_type": "code",
      "source": [
        "# Alternation | vs Bracket []\n",
        "pattern_22 = re.compile(r'(P(?:a|y)t(?:tern|hon)).+(P[ay]t[tern|hon])')\n",
        "result = pattern_22.search(text)\n",
        "result, result.groups()"
      ],
      "metadata": {
        "id": "G5SYDy0SnT1h"
      },
      "execution_count": null,
      "outputs": []
    },
    {
      "cell_type": "code",
      "source": [
        "# Greedy\n",
        "pattern_23 = re.compile(r'(P.+n)')\n",
        "result = pattern_23.search(text)\n",
        "result, result.groups()"
      ],
      "metadata": {
        "id": "VTMWMI-KnTyZ"
      },
      "execution_count": null,
      "outputs": []
    },
    {
      "cell_type": "code",
      "source": [
        "# Lazy\n",
        "pattern_23 = re.compile(r'(P.*?n)')\n",
        "result = pattern_23.search(text)\n",
        "result, result.groups()"
      ],
      "metadata": {
        "id": "GuddTr4psSAZ"
      },
      "execution_count": null,
      "outputs": []
    },
    {
      "cell_type": "code",
      "source": [
        "pattern_24 = re.compile(r'(P.*?ns?)')\n",
        "result = pattern_24.search(text)\n",
        "result, result.groups()"
      ],
      "metadata": {
        "id": "zknYLfEtsd4O"
      },
      "execution_count": null,
      "outputs": []
    },
    {
      "cell_type": "code",
      "source": [
        "pattern_25 = re.compile(r'(P.{5})\\b')\n",
        "result = pattern_25.search(text)\n",
        "result, result.groups()"
      ],
      "metadata": {
        "id": "iUk6t01Isr1n"
      },
      "execution_count": null,
      "outputs": []
    },
    {
      "cell_type": "code",
      "source": [
        "pattern_26 = re.compile(r'(P.{5,6})\\b')\n",
        "result = pattern_26.search(text)\n",
        "result, result.groups()"
      ],
      "metadata": {
        "id": "8W2ODGd0s7TX"
      },
      "execution_count": null,
      "outputs": []
    },
    {
      "cell_type": "code",
      "source": [
        "pattern_27 = re.compile(r'(P.{,6})\\b')\n",
        "result = pattern_27.search(text)\n",
        "result, result.groups()"
      ],
      "metadata": {
        "id": "YoMn3yDNs-Zm"
      },
      "execution_count": null,
      "outputs": []
    },
    {
      "cell_type": "code",
      "source": [
        "pattern_28 = re.compile(r'(P.{5,})\\b')\n",
        "result = pattern_28.search(text)\n",
        "result, result.groups()"
      ],
      "metadata": {
        "id": "Co81mCnUtBNu"
      },
      "execution_count": null,
      "outputs": []
    },
    {
      "cell_type": "code",
      "source": [
        "pattern_29 = re.compile(r'(P.{5,}?)\\b')\n",
        "result = pattern_29.search(text)\n",
        "result, result.groups()"
      ],
      "metadata": {
        "id": "P0MKjNUYtRvx"
      },
      "execution_count": null,
      "outputs": []
    },
    {
      "cell_type": "markdown",
      "source": [
        "#### Lookaround"
      ],
      "metadata": {
        "id": "K2d3LV21s4s7"
      }
    },
    {
      "cell_type": "code",
      "source": [
        "text"
      ],
      "metadata": {
        "id": "ne57ySOLstl8"
      },
      "execution_count": null,
      "outputs": []
    },
    {
      "cell_type": "code",
      "source": [
        "pattern_30 = re.compile(r'P(?=attern)')\n",
        "pattern_30.search(text)"
      ],
      "metadata": {
        "id": "yx-xnCzXuBMt"
      },
      "execution_count": null,
      "outputs": []
    },
    {
      "cell_type": "code",
      "source": [
        "pattern_31 = re.compile(r'P(?!attern)')\n",
        "pattern_31.search(text)"
      ],
      "metadata": {
        "id": "wFS4Kg6_ub34"
      },
      "execution_count": null,
      "outputs": []
    },
    {
      "cell_type": "code",
      "source": [
        "pattern_32 = re.compile(r'(?<=ทด)สอบ')\n",
        "pattern_32.search(text)"
      ],
      "metadata": {
        "id": "6lxiQC2Jul8t"
      },
      "execution_count": null,
      "outputs": []
    },
    {
      "cell_type": "code",
      "source": [
        "pattern_33 = re.compile(r'(?<!ทด)สอบ')\n",
        "pattern_33.search(text)"
      ],
      "metadata": {
        "id": "niQ5ua5fv9t3"
      },
      "execution_count": 352,
      "outputs": []
    },
    {
      "cell_type": "markdown",
      "source": [
        "### **2. Flag**\n",
        "\n",
        "ใช้กำกับพฤติกรรมของ pattern การใช้หลาย flag ร่วมกันสามารทำได้โดย bitwise OR เช่น `re.I|re.M|re.S`\n",
        "\n",
        "[ตาราง Flag ที่ใช้บ่อย](https://github.com/benzerer/python-regular-expression-guide/blob/main/README.md#%E0%B8%95%E0%B8%B2%E0%B8%A3%E0%B8%B2%E0%B8%87-regex-flag-%E0%B8%97%E0%B8%B5%E0%B9%88%E0%B9%83%E0%B8%8A%E0%B9%89%E0%B9%83%E0%B8%99-python)"
      ],
      "metadata": {
        "id": "uCTINexKsKaV"
      }
    },
    {
      "cell_type": "code",
      "source": [
        "text"
      ],
      "metadata": {
        "id": "P0pQmSyAxeIO"
      },
      "execution_count": null,
      "outputs": []
    },
    {
      "cell_type": "code",
      "source": [
        "pattern_34 = re.compile('[a-z]attern', re.I)\n",
        "pattern_34.search(text)"
      ],
      "metadata": {
        "id": "txylXTQdsNwA"
      },
      "execution_count": null,
      "outputs": []
    },
    {
      "cell_type": "code",
      "source": [
        "pattern_22 = re.compile(r'(?P<p1>ทดสอบ).+(?P<p2>(?(p1)python))')\n",
        "result = pattern_22.search(text)\n",
        "result"
      ],
      "metadata": {
        "id": "zFojgETNwO9E"
      },
      "execution_count": 357,
      "outputs": []
    },
    {
      "cell_type": "code",
      "source": [
        "pattern_23 = re.compile(r'(?P<p1>ทดสอบ).+(?P<p2>(?(p1)python))', re.I|re.S)\n",
        "result = pattern_23.search(text)\n",
        "result, result.groups()"
      ],
      "metadata": {
        "id": "xqpK9rcawfMd"
      },
      "execution_count": null,
      "outputs": []
    },
    {
      "cell_type": "code",
      "source": [
        "pattern_24 = re.compile(r'^p.+?\\b', re.I|re.S)\n",
        "result = pattern_24.search(text)\n",
        "result"
      ],
      "metadata": {
        "id": "SrRp5syZwmZT"
      },
      "execution_count": 372,
      "outputs": []
    },
    {
      "cell_type": "code",
      "source": [
        "pattern_25 = re.compile(r'^p.+?\\b', re.I|re.S|re.M)\n",
        "result = pattern_25.search(text)\n",
        "result"
      ],
      "metadata": {
        "id": "d_oAnvgyw64p"
      },
      "execution_count": null,
      "outputs": []
    }
  ],
  "metadata": {
    "colab": {
      "name": "scratchpad",
      "provenance": [],
      "include_colab_link": true
    },
    "kernelspec": {
      "display_name": "Python 3",
      "name": "python3"
    }
  },
  "nbformat": 4,
  "nbformat_minor": 0
}